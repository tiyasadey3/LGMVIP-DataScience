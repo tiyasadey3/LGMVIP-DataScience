{
  "nbformat": 4,
  "nbformat_minor": 0,
  "metadata": {
    "colab": {
      "name": "Task_3_Beginner_level_Music_Recommendation_TIYASA_DEY.ipynb",
      "provenance": [],
      "collapsed_sections": [],
      "authorship_tag": "ABX9TyOTgeZv7bdUJqiXIKvo00pN",
      "include_colab_link": true
    },
    "kernelspec": {
      "name": "python3",
      "display_name": "Python 3"
    },
    "language_info": {
      "name": "python"
    }
  },
  "cells": [
    {
      "cell_type": "markdown",
      "metadata": {
        "id": "view-in-github",
        "colab_type": "text"
      },
      "source": [
        "<a href=\"https://colab.research.google.com/github/tiyasadey3/LGMVIP-DataScience/blob/main/Task_3_Beginner_level_Music_Recommendation_TIYASA_DEY.ipynb\" target=\"_parent\"><img src=\"https://colab.research.google.com/assets/colab-badge.svg\" alt=\"Open In Colab\"/></a>"
      ]
    },
    {
      "cell_type": "markdown",
      "metadata": {
        "id": "ERyOXBqG0FG2"
      },
      "source": [
        "## **LetsGrowMore**"
      ]
    },
    {
      "cell_type": "markdown",
      "metadata": {
        "id": "zhPrgsIF0EPx"
      },
      "source": [
        "## **Beginner level task :**"
      ]
    },
    {
      "cell_type": "markdown",
      "metadata": {
        "id": "A8NT7rLF0EGO"
      },
      "source": [
        "## **Task 3: Music Recommendation**"
      ]
    },
    {
      "cell_type": "markdown",
      "metadata": {
        "id": "6KBI2lkm0D6m"
      },
      "source": [
        "## **Task Details : Music recommender system can suggest songs to users based on their listening pattern.**"
      ]
    },
    {
      "cell_type": "markdown",
      "metadata": {
        "id": "C4SRuXt00Dv4"
      },
      "source": [
        "## **AUTHOR : TIYASA DEY**"
      ]
    },
    {
      "cell_type": "markdown",
      "metadata": {
        "id": "EigWBPpc0DlR"
      },
      "source": [
        "## **Dataset:**"
      ]
    },
    {
      "cell_type": "markdown",
      "metadata": {
        "id": "TyJeWBLJ0DPd"
      },
      "source": [
        "https://drive.google.com/drive/folders/1EAEY5rWBs27CI2m5kh7T3kTFilkSE-rz?usp=sharing"
      ]
    },
    {
      "cell_type": "markdown",
      "metadata": {
        "id": "pSQTwf1Nyxzf"
      },
      "source": [
        "## **Import required modules**"
      ]
    },
    {
      "cell_type": "code",
      "metadata": {
        "id": "XL7F6tr2-5et"
      },
      "source": [
        "import pandas as pd\n",
        "import numpy as np\n",
        "import Recommenders as Recommenders"
      ],
      "execution_count": null,
      "outputs": []
    },
    {
      "cell_type": "markdown",
      "metadata": {
        "id": "bs33ZadkzGXL"
      },
      "source": [
        "## **Loading the dataset**"
      ]
    },
    {
      "cell_type": "code",
      "metadata": {
        "colab": {
          "base_uri": "https://localhost:8080/",
          "height": 203
        },
        "id": "Fav5mrjXCpdr",
        "outputId": "ca7425da-80a7-4992-aa72-14231fa6fa3a"
      },
      "source": [
        "df_song_1 = pd.read_csv('/content/triplets_file.csv')\n",
        "df_song_1.head()"
      ],
      "execution_count": null,
      "outputs": [
        {
          "output_type": "execute_result",
          "data": {
            "text/html": [
              "<div>\n",
              "<style scoped>\n",
              "    .dataframe tbody tr th:only-of-type {\n",
              "        vertical-align: middle;\n",
              "    }\n",
              "\n",
              "    .dataframe tbody tr th {\n",
              "        vertical-align: top;\n",
              "    }\n",
              "\n",
              "    .dataframe thead th {\n",
              "        text-align: right;\n",
              "    }\n",
              "</style>\n",
              "<table border=\"1\" class=\"dataframe\">\n",
              "  <thead>\n",
              "    <tr style=\"text-align: right;\">\n",
              "      <th></th>\n",
              "      <th>user_id</th>\n",
              "      <th>song_id</th>\n",
              "      <th>listen_count</th>\n",
              "    </tr>\n",
              "  </thead>\n",
              "  <tbody>\n",
              "    <tr>\n",
              "      <th>0</th>\n",
              "      <td>b80344d063b5ccb3212f76538f3d9e43d87dca9e</td>\n",
              "      <td>SOAKIMP12A8C130995</td>\n",
              "      <td>1</td>\n",
              "    </tr>\n",
              "    <tr>\n",
              "      <th>1</th>\n",
              "      <td>b80344d063b5ccb3212f76538f3d9e43d87dca9e</td>\n",
              "      <td>SOBBMDR12A8C13253B</td>\n",
              "      <td>2</td>\n",
              "    </tr>\n",
              "    <tr>\n",
              "      <th>2</th>\n",
              "      <td>b80344d063b5ccb3212f76538f3d9e43d87dca9e</td>\n",
              "      <td>SOBXHDL12A81C204C0</td>\n",
              "      <td>1</td>\n",
              "    </tr>\n",
              "    <tr>\n",
              "      <th>3</th>\n",
              "      <td>b80344d063b5ccb3212f76538f3d9e43d87dca9e</td>\n",
              "      <td>SOBYHAJ12A6701BF1D</td>\n",
              "      <td>1</td>\n",
              "    </tr>\n",
              "    <tr>\n",
              "      <th>4</th>\n",
              "      <td>b80344d063b5ccb3212f76538f3d9e43d87dca9e</td>\n",
              "      <td>SODACBL12A8C13C273</td>\n",
              "      <td>1</td>\n",
              "    </tr>\n",
              "  </tbody>\n",
              "</table>\n",
              "</div>"
            ],
            "text/plain": [
              "                                    user_id             song_id  listen_count\n",
              "0  b80344d063b5ccb3212f76538f3d9e43d87dca9e  SOAKIMP12A8C130995             1\n",
              "1  b80344d063b5ccb3212f76538f3d9e43d87dca9e  SOBBMDR12A8C13253B             2\n",
              "2  b80344d063b5ccb3212f76538f3d9e43d87dca9e  SOBXHDL12A81C204C0             1\n",
              "3  b80344d063b5ccb3212f76538f3d9e43d87dca9e  SOBYHAJ12A6701BF1D             1\n",
              "4  b80344d063b5ccb3212f76538f3d9e43d87dca9e  SODACBL12A8C13C273             1"
            ]
          },
          "metadata": {},
          "execution_count": 33
        }
      ]
    },
    {
      "cell_type": "code",
      "metadata": {
        "colab": {
          "base_uri": "https://localhost:8080/"
        },
        "id": "Lc1zzhZjQXU8",
        "outputId": "cc80ada1-1959-4987-edb9-893ba2559fe2"
      },
      "source": [
        "len(df_song_1)"
      ],
      "execution_count": null,
      "outputs": [
        {
          "output_type": "execute_result",
          "data": {
            "text/plain": [
              "2000000"
            ]
          },
          "metadata": {},
          "execution_count": 34
        }
      ]
    },
    {
      "cell_type": "code",
      "metadata": {
        "colab": {
          "base_uri": "https://localhost:8080/"
        },
        "id": "ilMm8RjDQ_Fc",
        "outputId": "f59ee9ed-4086-440b-9d1d-426e08b1460a"
      },
      "source": [
        "df_song_1.info()"
      ],
      "execution_count": null,
      "outputs": [
        {
          "output_type": "stream",
          "text": [
            "<class 'pandas.core.frame.DataFrame'>\n",
            "RangeIndex: 2000000 entries, 0 to 1999999\n",
            "Data columns (total 3 columns):\n",
            " #   Column        Dtype \n",
            "---  ------        ----- \n",
            " 0   user_id       object\n",
            " 1   song_id       object\n",
            " 2   listen_count  int64 \n",
            "dtypes: int64(1), object(2)\n",
            "memory usage: 45.8+ MB\n"
          ],
          "name": "stdout"
        }
      ]
    },
    {
      "cell_type": "code",
      "metadata": {
        "colab": {
          "base_uri": "https://localhost:8080/"
        },
        "id": "CdyoQcD2RIod",
        "outputId": "69b728ad-3f41-4b63-d40b-3475c96cccab"
      },
      "source": [
        "df_song_1.isna().sum()"
      ],
      "execution_count": null,
      "outputs": [
        {
          "output_type": "execute_result",
          "data": {
            "text/plain": [
              "user_id         0\n",
              "song_id         0\n",
              "listen_count    0\n",
              "dtype: int64"
            ]
          },
          "metadata": {},
          "execution_count": 36
        }
      ]
    },
    {
      "cell_type": "code",
      "metadata": {
        "colab": {
          "base_uri": "https://localhost:8080/",
          "height": 203
        },
        "id": "GuMGslIFOylF",
        "outputId": "482fdeec-2c7f-4881-9b8a-279dd4ca95f5"
      },
      "source": [
        "df_song_2 = pd.read_csv('/content/song_data.csv')\n",
        "df_song_2.head()"
      ],
      "execution_count": null,
      "outputs": [
        {
          "output_type": "execute_result",
          "data": {
            "text/html": [
              "<div>\n",
              "<style scoped>\n",
              "    .dataframe tbody tr th:only-of-type {\n",
              "        vertical-align: middle;\n",
              "    }\n",
              "\n",
              "    .dataframe tbody tr th {\n",
              "        vertical-align: top;\n",
              "    }\n",
              "\n",
              "    .dataframe thead th {\n",
              "        text-align: right;\n",
              "    }\n",
              "</style>\n",
              "<table border=\"1\" class=\"dataframe\">\n",
              "  <thead>\n",
              "    <tr style=\"text-align: right;\">\n",
              "      <th></th>\n",
              "      <th>song_id</th>\n",
              "      <th>title</th>\n",
              "      <th>release</th>\n",
              "      <th>artist_name</th>\n",
              "      <th>year</th>\n",
              "    </tr>\n",
              "  </thead>\n",
              "  <tbody>\n",
              "    <tr>\n",
              "      <th>0</th>\n",
              "      <td>SOQMMHC12AB0180CB8</td>\n",
              "      <td>Silent Night</td>\n",
              "      <td>Monster Ballads X-Mas</td>\n",
              "      <td>Faster Pussy cat</td>\n",
              "      <td>2003</td>\n",
              "    </tr>\n",
              "    <tr>\n",
              "      <th>1</th>\n",
              "      <td>SOVFVAK12A8C1350D9</td>\n",
              "      <td>Tanssi vaan</td>\n",
              "      <td>Karkuteillä</td>\n",
              "      <td>Karkkiautomaatti</td>\n",
              "      <td>1995</td>\n",
              "    </tr>\n",
              "    <tr>\n",
              "      <th>2</th>\n",
              "      <td>SOGTUKN12AB017F4F1</td>\n",
              "      <td>No One Could Ever</td>\n",
              "      <td>Butter</td>\n",
              "      <td>Hudson Mohawke</td>\n",
              "      <td>2006</td>\n",
              "    </tr>\n",
              "    <tr>\n",
              "      <th>3</th>\n",
              "      <td>SOBNYVR12A8C13558C</td>\n",
              "      <td>Si Vos Querés</td>\n",
              "      <td>De Culo</td>\n",
              "      <td>Yerba Brava</td>\n",
              "      <td>2003</td>\n",
              "    </tr>\n",
              "    <tr>\n",
              "      <th>4</th>\n",
              "      <td>SOHSBXH12A8C13B0DF</td>\n",
              "      <td>Tangle Of Aspens</td>\n",
              "      <td>Rene Ablaze Presents Winter Sessions</td>\n",
              "      <td>Der Mystic</td>\n",
              "      <td>0</td>\n",
              "    </tr>\n",
              "  </tbody>\n",
              "</table>\n",
              "</div>"
            ],
            "text/plain": [
              "              song_id              title  ...       artist_name  year\n",
              "0  SOQMMHC12AB0180CB8       Silent Night  ...  Faster Pussy cat  2003\n",
              "1  SOVFVAK12A8C1350D9        Tanssi vaan  ...  Karkkiautomaatti  1995\n",
              "2  SOGTUKN12AB017F4F1  No One Could Ever  ...    Hudson Mohawke  2006\n",
              "3  SOBNYVR12A8C13558C      Si Vos Querés  ...       Yerba Brava  2003\n",
              "4  SOHSBXH12A8C13B0DF   Tangle Of Aspens  ...        Der Mystic     0\n",
              "\n",
              "[5 rows x 5 columns]"
            ]
          },
          "metadata": {},
          "execution_count": 37
        }
      ]
    },
    {
      "cell_type": "code",
      "metadata": {
        "colab": {
          "base_uri": "https://localhost:8080/"
        },
        "id": "TKmHhxFFQebT",
        "outputId": "ecbf7787-9413-4068-b0e0-4ecac40fe143"
      },
      "source": [
        "len(df_song_2)"
      ],
      "execution_count": null,
      "outputs": [
        {
          "output_type": "execute_result",
          "data": {
            "text/plain": [
              "1000000"
            ]
          },
          "metadata": {},
          "execution_count": 38
        }
      ]
    },
    {
      "cell_type": "code",
      "metadata": {
        "colab": {
          "base_uri": "https://localhost:8080/"
        },
        "id": "iD16saoHReLc",
        "outputId": "a32c9db5-8a59-4541-8ef0-8bb6532fd557"
      },
      "source": [
        "df_song_2.isna().sum()"
      ],
      "execution_count": null,
      "outputs": [
        {
          "output_type": "execute_result",
          "data": {
            "text/plain": [
              "song_id         0\n",
              "title          15\n",
              "release         5\n",
              "artist_name     0\n",
              "year            0\n",
              "dtype: int64"
            ]
          },
          "metadata": {},
          "execution_count": 39
        }
      ]
    },
    {
      "cell_type": "markdown",
      "metadata": {
        "id": "aRc0W2fDT1sG"
      },
      "source": [
        "## **Data Preprocessing**"
      ]
    },
    {
      "cell_type": "markdown",
      "metadata": {
        "id": "YRQWS-ywPSKU"
      },
      "source": [
        "## **combine both data**"
      ]
    },
    {
      "cell_type": "code",
      "metadata": {
        "colab": {
          "base_uri": "https://localhost:8080/",
          "height": 203
        },
        "id": "YJRHbBenO-tZ",
        "outputId": "11bd64bc-9dc8-4c7a-885a-07b82c8a89b5"
      },
      "source": [
        "df_song = pd.merge(df_song_1,df_song_2.drop_duplicates(['song_id']),how ='left')\n",
        "df_song.head()"
      ],
      "execution_count": null,
      "outputs": [
        {
          "output_type": "execute_result",
          "data": {
            "text/html": [
              "<div>\n",
              "<style scoped>\n",
              "    .dataframe tbody tr th:only-of-type {\n",
              "        vertical-align: middle;\n",
              "    }\n",
              "\n",
              "    .dataframe tbody tr th {\n",
              "        vertical-align: top;\n",
              "    }\n",
              "\n",
              "    .dataframe thead th {\n",
              "        text-align: right;\n",
              "    }\n",
              "</style>\n",
              "<table border=\"1\" class=\"dataframe\">\n",
              "  <thead>\n",
              "    <tr style=\"text-align: right;\">\n",
              "      <th></th>\n",
              "      <th>user_id</th>\n",
              "      <th>song_id</th>\n",
              "      <th>listen_count</th>\n",
              "      <th>title</th>\n",
              "      <th>release</th>\n",
              "      <th>artist_name</th>\n",
              "      <th>year</th>\n",
              "    </tr>\n",
              "  </thead>\n",
              "  <tbody>\n",
              "    <tr>\n",
              "      <th>0</th>\n",
              "      <td>b80344d063b5ccb3212f76538f3d9e43d87dca9e</td>\n",
              "      <td>SOAKIMP12A8C130995</td>\n",
              "      <td>1</td>\n",
              "      <td>The Cove</td>\n",
              "      <td>Thicker Than Water</td>\n",
              "      <td>Jack Johnson</td>\n",
              "      <td>0</td>\n",
              "    </tr>\n",
              "    <tr>\n",
              "      <th>1</th>\n",
              "      <td>b80344d063b5ccb3212f76538f3d9e43d87dca9e</td>\n",
              "      <td>SOBBMDR12A8C13253B</td>\n",
              "      <td>2</td>\n",
              "      <td>Entre Dos Aguas</td>\n",
              "      <td>Flamenco Para Niños</td>\n",
              "      <td>Paco De Lucia</td>\n",
              "      <td>1976</td>\n",
              "    </tr>\n",
              "    <tr>\n",
              "      <th>2</th>\n",
              "      <td>b80344d063b5ccb3212f76538f3d9e43d87dca9e</td>\n",
              "      <td>SOBXHDL12A81C204C0</td>\n",
              "      <td>1</td>\n",
              "      <td>Stronger</td>\n",
              "      <td>Graduation</td>\n",
              "      <td>Kanye West</td>\n",
              "      <td>2007</td>\n",
              "    </tr>\n",
              "    <tr>\n",
              "      <th>3</th>\n",
              "      <td>b80344d063b5ccb3212f76538f3d9e43d87dca9e</td>\n",
              "      <td>SOBYHAJ12A6701BF1D</td>\n",
              "      <td>1</td>\n",
              "      <td>Constellations</td>\n",
              "      <td>In Between Dreams</td>\n",
              "      <td>Jack Johnson</td>\n",
              "      <td>2005</td>\n",
              "    </tr>\n",
              "    <tr>\n",
              "      <th>4</th>\n",
              "      <td>b80344d063b5ccb3212f76538f3d9e43d87dca9e</td>\n",
              "      <td>SODACBL12A8C13C273</td>\n",
              "      <td>1</td>\n",
              "      <td>Learn To Fly</td>\n",
              "      <td>There Is Nothing Left To Lose</td>\n",
              "      <td>Foo Fighters</td>\n",
              "      <td>1999</td>\n",
              "    </tr>\n",
              "  </tbody>\n",
              "</table>\n",
              "</div>"
            ],
            "text/plain": [
              "                                    user_id  ...  year\n",
              "0  b80344d063b5ccb3212f76538f3d9e43d87dca9e  ...     0\n",
              "1  b80344d063b5ccb3212f76538f3d9e43d87dca9e  ...  1976\n",
              "2  b80344d063b5ccb3212f76538f3d9e43d87dca9e  ...  2007\n",
              "3  b80344d063b5ccb3212f76538f3d9e43d87dca9e  ...  2005\n",
              "4  b80344d063b5ccb3212f76538f3d9e43d87dca9e  ...  1999\n",
              "\n",
              "[5 rows x 7 columns]"
            ]
          },
          "metadata": {},
          "execution_count": 40
        }
      ]
    },
    {
      "cell_type": "code",
      "metadata": {
        "colab": {
          "base_uri": "https://localhost:8080/"
        },
        "id": "tfLH1nNIPus1",
        "outputId": "310e5c0e-9e35-47c2-d363-dcca8c4029a0"
      },
      "source": [
        "len(df_song)"
      ],
      "execution_count": null,
      "outputs": [
        {
          "output_type": "execute_result",
          "data": {
            "text/plain": [
              "2000000"
            ]
          },
          "metadata": {},
          "execution_count": 41
        }
      ]
    },
    {
      "cell_type": "markdown",
      "metadata": {
        "id": "7uri9rEoSf3N"
      },
      "source": [
        "## **creating new feature combining title and artist name**"
      ]
    },
    {
      "cell_type": "code",
      "metadata": {
        "colab": {
          "base_uri": "https://localhost:8080/",
          "height": 304
        },
        "id": "L0kHGqU8Qr4I",
        "outputId": "1fbc11d3-13be-468c-b3a6-b1969e9dcda4"
      },
      "source": [
        "df_song['song_details'] = df_song['title']+' - '+df_song['artist_name']\n",
        "df_song.head()"
      ],
      "execution_count": null,
      "outputs": [
        {
          "output_type": "execute_result",
          "data": {
            "text/html": [
              "<div>\n",
              "<style scoped>\n",
              "    .dataframe tbody tr th:only-of-type {\n",
              "        vertical-align: middle;\n",
              "    }\n",
              "\n",
              "    .dataframe tbody tr th {\n",
              "        vertical-align: top;\n",
              "    }\n",
              "\n",
              "    .dataframe thead th {\n",
              "        text-align: right;\n",
              "    }\n",
              "</style>\n",
              "<table border=\"1\" class=\"dataframe\">\n",
              "  <thead>\n",
              "    <tr style=\"text-align: right;\">\n",
              "      <th></th>\n",
              "      <th>user_id</th>\n",
              "      <th>song_id</th>\n",
              "      <th>listen_count</th>\n",
              "      <th>title</th>\n",
              "      <th>release</th>\n",
              "      <th>artist_name</th>\n",
              "      <th>year</th>\n",
              "      <th>song_details</th>\n",
              "    </tr>\n",
              "  </thead>\n",
              "  <tbody>\n",
              "    <tr>\n",
              "      <th>0</th>\n",
              "      <td>b80344d063b5ccb3212f76538f3d9e43d87dca9e</td>\n",
              "      <td>SOAKIMP12A8C130995</td>\n",
              "      <td>1</td>\n",
              "      <td>The Cove</td>\n",
              "      <td>Thicker Than Water</td>\n",
              "      <td>Jack Johnson</td>\n",
              "      <td>0</td>\n",
              "      <td>The Cove - Jack Johnson</td>\n",
              "    </tr>\n",
              "    <tr>\n",
              "      <th>1</th>\n",
              "      <td>b80344d063b5ccb3212f76538f3d9e43d87dca9e</td>\n",
              "      <td>SOBBMDR12A8C13253B</td>\n",
              "      <td>2</td>\n",
              "      <td>Entre Dos Aguas</td>\n",
              "      <td>Flamenco Para Niños</td>\n",
              "      <td>Paco De Lucia</td>\n",
              "      <td>1976</td>\n",
              "      <td>Entre Dos Aguas - Paco De Lucia</td>\n",
              "    </tr>\n",
              "    <tr>\n",
              "      <th>2</th>\n",
              "      <td>b80344d063b5ccb3212f76538f3d9e43d87dca9e</td>\n",
              "      <td>SOBXHDL12A81C204C0</td>\n",
              "      <td>1</td>\n",
              "      <td>Stronger</td>\n",
              "      <td>Graduation</td>\n",
              "      <td>Kanye West</td>\n",
              "      <td>2007</td>\n",
              "      <td>Stronger - Kanye West</td>\n",
              "    </tr>\n",
              "    <tr>\n",
              "      <th>3</th>\n",
              "      <td>b80344d063b5ccb3212f76538f3d9e43d87dca9e</td>\n",
              "      <td>SOBYHAJ12A6701BF1D</td>\n",
              "      <td>1</td>\n",
              "      <td>Constellations</td>\n",
              "      <td>In Between Dreams</td>\n",
              "      <td>Jack Johnson</td>\n",
              "      <td>2005</td>\n",
              "      <td>Constellations - Jack Johnson</td>\n",
              "    </tr>\n",
              "    <tr>\n",
              "      <th>4</th>\n",
              "      <td>b80344d063b5ccb3212f76538f3d9e43d87dca9e</td>\n",
              "      <td>SODACBL12A8C13C273</td>\n",
              "      <td>1</td>\n",
              "      <td>Learn To Fly</td>\n",
              "      <td>There Is Nothing Left To Lose</td>\n",
              "      <td>Foo Fighters</td>\n",
              "      <td>1999</td>\n",
              "      <td>Learn To Fly - Foo Fighters</td>\n",
              "    </tr>\n",
              "  </tbody>\n",
              "</table>\n",
              "</div>"
            ],
            "text/plain": [
              "                                    user_id  ...                     song_details\n",
              "0  b80344d063b5ccb3212f76538f3d9e43d87dca9e  ...          The Cove - Jack Johnson\n",
              "1  b80344d063b5ccb3212f76538f3d9e43d87dca9e  ...  Entre Dos Aguas - Paco De Lucia\n",
              "2  b80344d063b5ccb3212f76538f3d9e43d87dca9e  ...            Stronger - Kanye West\n",
              "3  b80344d063b5ccb3212f76538f3d9e43d87dca9e  ...    Constellations - Jack Johnson\n",
              "4  b80344d063b5ccb3212f76538f3d9e43d87dca9e  ...      Learn To Fly - Foo Fighters\n",
              "\n",
              "[5 rows x 8 columns]"
            ]
          },
          "metadata": {},
          "execution_count": 42
        }
      ]
    },
    {
      "cell_type": "markdown",
      "metadata": {
        "id": "MxEBqp9aU_cu"
      },
      "source": [
        "## **cummulative sum of listen count of the songs**"
      ]
    },
    {
      "cell_type": "code",
      "metadata": {
        "colab": {
          "base_uri": "https://localhost:8080/",
          "height": 234
        },
        "id": "mGoTf87CSkl-",
        "outputId": "3547e51d-81a1-4a12-91a3-c46322e2d135"
      },
      "source": [
        "grouped_song_details = df_song.groupby(['song_details']).agg({'listen_count':'count'})\n",
        "grouped_song_details.head()"
      ],
      "execution_count": null,
      "outputs": [
        {
          "output_type": "execute_result",
          "data": {
            "text/html": [
              "<div>\n",
              "<style scoped>\n",
              "    .dataframe tbody tr th:only-of-type {\n",
              "        vertical-align: middle;\n",
              "    }\n",
              "\n",
              "    .dataframe tbody tr th {\n",
              "        vertical-align: top;\n",
              "    }\n",
              "\n",
              "    .dataframe thead th {\n",
              "        text-align: right;\n",
              "    }\n",
              "</style>\n",
              "<table border=\"1\" class=\"dataframe\">\n",
              "  <thead>\n",
              "    <tr style=\"text-align: right;\">\n",
              "      <th></th>\n",
              "      <th>listen_count</th>\n",
              "    </tr>\n",
              "    <tr>\n",
              "      <th>song_details</th>\n",
              "      <th></th>\n",
              "    </tr>\n",
              "  </thead>\n",
              "  <tbody>\n",
              "    <tr>\n",
              "      <th>#!*@ You Tonight [Featuring R. Kelly] (Explicit Album Version) - The Notorious B.I.G.</th>\n",
              "      <td>78</td>\n",
              "    </tr>\n",
              "    <tr>\n",
              "      <th>#40 - DAVE MATTHEWS BAND</th>\n",
              "      <td>338</td>\n",
              "    </tr>\n",
              "    <tr>\n",
              "      <th>&amp; Down - Boys Noize</th>\n",
              "      <td>373</td>\n",
              "    </tr>\n",
              "    <tr>\n",
              "      <th>' Cello Song - Nick Drake</th>\n",
              "      <td>103</td>\n",
              "    </tr>\n",
              "    <tr>\n",
              "      <th>'97 Bonnie &amp; Clyde - Eminem</th>\n",
              "      <td>93</td>\n",
              "    </tr>\n",
              "  </tbody>\n",
              "</table>\n",
              "</div>"
            ],
            "text/plain": [
              "                                                    listen_count\n",
              "song_details                                                    \n",
              "#!*@ You Tonight [Featuring R. Kelly] (Explicit...            78\n",
              "#40 - DAVE MATTHEWS BAND                                     338\n",
              "& Down - Boys Noize                                          373\n",
              "' Cello Song - Nick Drake                                    103\n",
              "'97 Bonnie & Clyde - Eminem                                   93"
            ]
          },
          "metadata": {},
          "execution_count": 43
        }
      ]
    },
    {
      "cell_type": "code",
      "metadata": {
        "colab": {
          "base_uri": "https://localhost:8080/",
          "height": 447
        },
        "id": "5nTtHy5FVFfH",
        "outputId": "7fd3db38-1c00-4eeb-9d93-4d4e8dd3d8ea"
      },
      "source": [
        "grouped_sum_details = grouped_song_details['listen_count'].sum()\n",
        "grouped_song_details['percentage'] = (grouped_song_details['listen_count'] / grouped_sum_details ) * 100\n",
        "grouped_song_details.sort_values(['listen_count', 'song_details'], ascending= [0,1])"
      ],
      "execution_count": null,
      "outputs": [
        {
          "output_type": "execute_result",
          "data": {
            "text/html": [
              "<div>\n",
              "<style scoped>\n",
              "    .dataframe tbody tr th:only-of-type {\n",
              "        vertical-align: middle;\n",
              "    }\n",
              "\n",
              "    .dataframe tbody tr th {\n",
              "        vertical-align: top;\n",
              "    }\n",
              "\n",
              "    .dataframe thead th {\n",
              "        text-align: right;\n",
              "    }\n",
              "</style>\n",
              "<table border=\"1\" class=\"dataframe\">\n",
              "  <thead>\n",
              "    <tr style=\"text-align: right;\">\n",
              "      <th></th>\n",
              "      <th>listen_count</th>\n",
              "      <th>percentage</th>\n",
              "    </tr>\n",
              "    <tr>\n",
              "      <th>song_details</th>\n",
              "      <th></th>\n",
              "      <th></th>\n",
              "    </tr>\n",
              "  </thead>\n",
              "  <tbody>\n",
              "    <tr>\n",
              "      <th>Sehr kosmisch - Harmonia</th>\n",
              "      <td>8277</td>\n",
              "      <td>0.41385</td>\n",
              "    </tr>\n",
              "    <tr>\n",
              "      <th>Undo - Björk</th>\n",
              "      <td>7032</td>\n",
              "      <td>0.35160</td>\n",
              "    </tr>\n",
              "    <tr>\n",
              "      <th>Dog Days Are Over (Radio Edit) - Florence + The Machine</th>\n",
              "      <td>6949</td>\n",
              "      <td>0.34745</td>\n",
              "    </tr>\n",
              "    <tr>\n",
              "      <th>You're The One - Dwight Yoakam</th>\n",
              "      <td>6412</td>\n",
              "      <td>0.32060</td>\n",
              "    </tr>\n",
              "    <tr>\n",
              "      <th>Revelry - Kings Of Leon</th>\n",
              "      <td>6145</td>\n",
              "      <td>0.30725</td>\n",
              "    </tr>\n",
              "    <tr>\n",
              "      <th>...</th>\n",
              "      <td>...</td>\n",
              "      <td>...</td>\n",
              "    </tr>\n",
              "    <tr>\n",
              "      <th>Historia Del Portero - Ricardo Arjona</th>\n",
              "      <td>51</td>\n",
              "      <td>0.00255</td>\n",
              "    </tr>\n",
              "    <tr>\n",
              "      <th>Scared - Three Days Grace</th>\n",
              "      <td>51</td>\n",
              "      <td>0.00255</td>\n",
              "    </tr>\n",
              "    <tr>\n",
              "      <th>Don´t Leave Me Now - Amparanoia</th>\n",
              "      <td>50</td>\n",
              "      <td>0.00250</td>\n",
              "    </tr>\n",
              "    <tr>\n",
              "      <th>Ghosts (Toxic Avenger Mix) - Ladytron</th>\n",
              "      <td>48</td>\n",
              "      <td>0.00240</td>\n",
              "    </tr>\n",
              "    <tr>\n",
              "      <th>No Creo En El Jamas - Juanes</th>\n",
              "      <td>48</td>\n",
              "      <td>0.00240</td>\n",
              "    </tr>\n",
              "  </tbody>\n",
              "</table>\n",
              "<p>9953 rows × 2 columns</p>\n",
              "</div>"
            ],
            "text/plain": [
              "                                                    listen_count  percentage\n",
              "song_details                                                                \n",
              "Sehr kosmisch - Harmonia                                    8277     0.41385\n",
              "Undo - Björk                                                7032     0.35160\n",
              "Dog Days Are Over (Radio Edit) - Florence + The...          6949     0.34745\n",
              "You're The One - Dwight Yoakam                              6412     0.32060\n",
              "Revelry - Kings Of Leon                                     6145     0.30725\n",
              "...                                                          ...         ...\n",
              "Historia Del Portero - Ricardo Arjona                         51     0.00255\n",
              "Scared - Three Days Grace                                     51     0.00255\n",
              "Don´t Leave Me Now - Amparanoia                               50     0.00250\n",
              "Ghosts (Toxic Avenger Mix) - Ladytron                         48     0.00240\n",
              "No Creo En El Jamas - Juanes                                  48     0.00240\n",
              "\n",
              "[9953 rows x 2 columns]"
            ]
          },
          "metadata": {},
          "execution_count": 45
        }
      ]
    },
    {
      "cell_type": "code",
      "metadata": {
        "id": "7ISaLEssWOBX"
      },
      "source": [
        "PR = Recommenders.popularity_recommender_py()"
      ],
      "execution_count": null,
      "outputs": []
    },
    {
      "cell_type": "code",
      "metadata": {
        "id": "0KcBfUDiW0FP"
      },
      "source": [
        "\n",
        "PR.create(df_song, 'user_id', 'song_details')"
      ],
      "execution_count": null,
      "outputs": []
    },
    {
      "cell_type": "markdown",
      "metadata": {
        "id": "7ISCYngRYK09"
      },
      "source": [
        "## **display the top 10 popular songs**"
      ]
    },
    {
      "cell_type": "code",
      "metadata": {
        "colab": {
          "base_uri": "https://localhost:8080/",
          "height": 357
        },
        "id": "bn2js5JpW1P-",
        "outputId": "694f826f-5325-4d78-aa36-96c4107faa8e"
      },
      "source": [
        "PR.recommend(df_song['user_id'][6])"
      ],
      "execution_count": null,
      "outputs": [
        {
          "output_type": "execute_result",
          "data": {
            "text/html": [
              "<div>\n",
              "<style scoped>\n",
              "    .dataframe tbody tr th:only-of-type {\n",
              "        vertical-align: middle;\n",
              "    }\n",
              "\n",
              "    .dataframe tbody tr th {\n",
              "        vertical-align: top;\n",
              "    }\n",
              "\n",
              "    .dataframe thead th {\n",
              "        text-align: right;\n",
              "    }\n",
              "</style>\n",
              "<table border=\"1\" class=\"dataframe\">\n",
              "  <thead>\n",
              "    <tr style=\"text-align: right;\">\n",
              "      <th></th>\n",
              "      <th>user_id</th>\n",
              "      <th>song_details</th>\n",
              "      <th>score</th>\n",
              "      <th>Rank</th>\n",
              "    </tr>\n",
              "  </thead>\n",
              "  <tbody>\n",
              "    <tr>\n",
              "      <th>7127</th>\n",
              "      <td>b80344d063b5ccb3212f76538f3d9e43d87dca9e</td>\n",
              "      <td>Sehr kosmisch - Harmonia</td>\n",
              "      <td>8277</td>\n",
              "      <td>1.0</td>\n",
              "    </tr>\n",
              "    <tr>\n",
              "      <th>9084</th>\n",
              "      <td>b80344d063b5ccb3212f76538f3d9e43d87dca9e</td>\n",
              "      <td>Undo - Björk</td>\n",
              "      <td>7032</td>\n",
              "      <td>2.0</td>\n",
              "    </tr>\n",
              "    <tr>\n",
              "      <th>2068</th>\n",
              "      <td>b80344d063b5ccb3212f76538f3d9e43d87dca9e</td>\n",
              "      <td>Dog Days Are Over (Radio Edit) - Florence + Th...</td>\n",
              "      <td>6949</td>\n",
              "      <td>3.0</td>\n",
              "    </tr>\n",
              "    <tr>\n",
              "      <th>9880</th>\n",
              "      <td>b80344d063b5ccb3212f76538f3d9e43d87dca9e</td>\n",
              "      <td>You're The One - Dwight Yoakam</td>\n",
              "      <td>6412</td>\n",
              "      <td>4.0</td>\n",
              "    </tr>\n",
              "    <tr>\n",
              "      <th>6774</th>\n",
              "      <td>b80344d063b5ccb3212f76538f3d9e43d87dca9e</td>\n",
              "      <td>Revelry - Kings Of Leon</td>\n",
              "      <td>6145</td>\n",
              "      <td>5.0</td>\n",
              "    </tr>\n",
              "    <tr>\n",
              "      <th>7115</th>\n",
              "      <td>b80344d063b5ccb3212f76538f3d9e43d87dca9e</td>\n",
              "      <td>Secrets - OneRepublic</td>\n",
              "      <td>5841</td>\n",
              "      <td>6.0</td>\n",
              "    </tr>\n",
              "    <tr>\n",
              "      <th>3613</th>\n",
              "      <td>b80344d063b5ccb3212f76538f3d9e43d87dca9e</td>\n",
              "      <td>Horn Concerto No. 4 in E flat K495: II. Romanc...</td>\n",
              "      <td>5385</td>\n",
              "      <td>7.0</td>\n",
              "    </tr>\n",
              "    <tr>\n",
              "      <th>2717</th>\n",
              "      <td>b80344d063b5ccb3212f76538f3d9e43d87dca9e</td>\n",
              "      <td>Fireflies - Charttraxx Karaoke</td>\n",
              "      <td>4795</td>\n",
              "      <td>8.0</td>\n",
              "    </tr>\n",
              "    <tr>\n",
              "      <th>3485</th>\n",
              "      <td>b80344d063b5ccb3212f76538f3d9e43d87dca9e</td>\n",
              "      <td>Hey_ Soul Sister - Train</td>\n",
              "      <td>4758</td>\n",
              "      <td>9.0</td>\n",
              "    </tr>\n",
              "    <tr>\n",
              "      <th>8847</th>\n",
              "      <td>b80344d063b5ccb3212f76538f3d9e43d87dca9e</td>\n",
              "      <td>Tive Sim - Cartola</td>\n",
              "      <td>4548</td>\n",
              "      <td>10.0</td>\n",
              "    </tr>\n",
              "  </tbody>\n",
              "</table>\n",
              "</div>"
            ],
            "text/plain": [
              "                                       user_id  ...  Rank\n",
              "7127  b80344d063b5ccb3212f76538f3d9e43d87dca9e  ...   1.0\n",
              "9084  b80344d063b5ccb3212f76538f3d9e43d87dca9e  ...   2.0\n",
              "2068  b80344d063b5ccb3212f76538f3d9e43d87dca9e  ...   3.0\n",
              "9880  b80344d063b5ccb3212f76538f3d9e43d87dca9e  ...   4.0\n",
              "6774  b80344d063b5ccb3212f76538f3d9e43d87dca9e  ...   5.0\n",
              "7115  b80344d063b5ccb3212f76538f3d9e43d87dca9e  ...   6.0\n",
              "3613  b80344d063b5ccb3212f76538f3d9e43d87dca9e  ...   7.0\n",
              "2717  b80344d063b5ccb3212f76538f3d9e43d87dca9e  ...   8.0\n",
              "3485  b80344d063b5ccb3212f76538f3d9e43d87dca9e  ...   9.0\n",
              "8847  b80344d063b5ccb3212f76538f3d9e43d87dca9e  ...  10.0\n",
              "\n",
              "[10 rows x 4 columns]"
            ]
          },
          "metadata": {},
          "execution_count": 49
        }
      ]
    },
    {
      "cell_type": "code",
      "metadata": {
        "colab": {
          "base_uri": "https://localhost:8080/",
          "height": 357
        },
        "id": "FymImVfYX4RR",
        "outputId": "7dc4c25c-3384-4674-b32b-8dc31a462f6f"
      },
      "source": [
        "PR.recommend(df_song['user_id'][17])"
      ],
      "execution_count": null,
      "outputs": [
        {
          "output_type": "execute_result",
          "data": {
            "text/html": [
              "<div>\n",
              "<style scoped>\n",
              "    .dataframe tbody tr th:only-of-type {\n",
              "        vertical-align: middle;\n",
              "    }\n",
              "\n",
              "    .dataframe tbody tr th {\n",
              "        vertical-align: top;\n",
              "    }\n",
              "\n",
              "    .dataframe thead th {\n",
              "        text-align: right;\n",
              "    }\n",
              "</style>\n",
              "<table border=\"1\" class=\"dataframe\">\n",
              "  <thead>\n",
              "    <tr style=\"text-align: right;\">\n",
              "      <th></th>\n",
              "      <th>user_id</th>\n",
              "      <th>song_details</th>\n",
              "      <th>score</th>\n",
              "      <th>Rank</th>\n",
              "    </tr>\n",
              "  </thead>\n",
              "  <tbody>\n",
              "    <tr>\n",
              "      <th>7127</th>\n",
              "      <td>b80344d063b5ccb3212f76538f3d9e43d87dca9e</td>\n",
              "      <td>Sehr kosmisch - Harmonia</td>\n",
              "      <td>8277</td>\n",
              "      <td>1.0</td>\n",
              "    </tr>\n",
              "    <tr>\n",
              "      <th>9084</th>\n",
              "      <td>b80344d063b5ccb3212f76538f3d9e43d87dca9e</td>\n",
              "      <td>Undo - Björk</td>\n",
              "      <td>7032</td>\n",
              "      <td>2.0</td>\n",
              "    </tr>\n",
              "    <tr>\n",
              "      <th>2068</th>\n",
              "      <td>b80344d063b5ccb3212f76538f3d9e43d87dca9e</td>\n",
              "      <td>Dog Days Are Over (Radio Edit) - Florence + Th...</td>\n",
              "      <td>6949</td>\n",
              "      <td>3.0</td>\n",
              "    </tr>\n",
              "    <tr>\n",
              "      <th>9880</th>\n",
              "      <td>b80344d063b5ccb3212f76538f3d9e43d87dca9e</td>\n",
              "      <td>You're The One - Dwight Yoakam</td>\n",
              "      <td>6412</td>\n",
              "      <td>4.0</td>\n",
              "    </tr>\n",
              "    <tr>\n",
              "      <th>6774</th>\n",
              "      <td>b80344d063b5ccb3212f76538f3d9e43d87dca9e</td>\n",
              "      <td>Revelry - Kings Of Leon</td>\n",
              "      <td>6145</td>\n",
              "      <td>5.0</td>\n",
              "    </tr>\n",
              "    <tr>\n",
              "      <th>7115</th>\n",
              "      <td>b80344d063b5ccb3212f76538f3d9e43d87dca9e</td>\n",
              "      <td>Secrets - OneRepublic</td>\n",
              "      <td>5841</td>\n",
              "      <td>6.0</td>\n",
              "    </tr>\n",
              "    <tr>\n",
              "      <th>3613</th>\n",
              "      <td>b80344d063b5ccb3212f76538f3d9e43d87dca9e</td>\n",
              "      <td>Horn Concerto No. 4 in E flat K495: II. Romanc...</td>\n",
              "      <td>5385</td>\n",
              "      <td>7.0</td>\n",
              "    </tr>\n",
              "    <tr>\n",
              "      <th>2717</th>\n",
              "      <td>b80344d063b5ccb3212f76538f3d9e43d87dca9e</td>\n",
              "      <td>Fireflies - Charttraxx Karaoke</td>\n",
              "      <td>4795</td>\n",
              "      <td>8.0</td>\n",
              "    </tr>\n",
              "    <tr>\n",
              "      <th>3485</th>\n",
              "      <td>b80344d063b5ccb3212f76538f3d9e43d87dca9e</td>\n",
              "      <td>Hey_ Soul Sister - Train</td>\n",
              "      <td>4758</td>\n",
              "      <td>9.0</td>\n",
              "    </tr>\n",
              "    <tr>\n",
              "      <th>8847</th>\n",
              "      <td>b80344d063b5ccb3212f76538f3d9e43d87dca9e</td>\n",
              "      <td>Tive Sim - Cartola</td>\n",
              "      <td>4548</td>\n",
              "      <td>10.0</td>\n",
              "    </tr>\n",
              "  </tbody>\n",
              "</table>\n",
              "</div>"
            ],
            "text/plain": [
              "                                       user_id  ...  Rank\n",
              "7127  b80344d063b5ccb3212f76538f3d9e43d87dca9e  ...   1.0\n",
              "9084  b80344d063b5ccb3212f76538f3d9e43d87dca9e  ...   2.0\n",
              "2068  b80344d063b5ccb3212f76538f3d9e43d87dca9e  ...   3.0\n",
              "9880  b80344d063b5ccb3212f76538f3d9e43d87dca9e  ...   4.0\n",
              "6774  b80344d063b5ccb3212f76538f3d9e43d87dca9e  ...   5.0\n",
              "7115  b80344d063b5ccb3212f76538f3d9e43d87dca9e  ...   6.0\n",
              "3613  b80344d063b5ccb3212f76538f3d9e43d87dca9e  ...   7.0\n",
              "2717  b80344d063b5ccb3212f76538f3d9e43d87dca9e  ...   8.0\n",
              "3485  b80344d063b5ccb3212f76538f3d9e43d87dca9e  ...   9.0\n",
              "8847  b80344d063b5ccb3212f76538f3d9e43d87dca9e  ...  10.0\n",
              "\n",
              "[10 rows x 4 columns]"
            ]
          },
          "metadata": {},
          "execution_count": 50
        }
      ]
    },
    {
      "cell_type": "code",
      "metadata": {
        "id": "q34QXRN1YFT8"
      },
      "source": [
        "IR = Recommenders.item_similarity_recommender_py()\n",
        "IR.create(df_song, 'user_id', 'song_details')"
      ],
      "execution_count": null,
      "outputs": []
    },
    {
      "cell_type": "code",
      "metadata": {
        "id": "FuZ9ywr1Y9nC"
      },
      "source": [
        "user_fav_items = IR.get_user_items(df_song['user_id'][10])"
      ],
      "execution_count": null,
      "outputs": []
    },
    {
      "cell_type": "markdown",
      "metadata": {
        "id": "DNHSnnczZtTl"
      },
      "source": [
        "## **display user songs history**"
      ]
    },
    {
      "cell_type": "code",
      "metadata": {
        "colab": {
          "base_uri": "https://localhost:8080/"
        },
        "id": "ALW2zpRTZl6V",
        "outputId": "a4d89ccd-663f-4ad2-b261-bec1abc17b03"
      },
      "source": [
        "for user_fav_item in user_fav_items:\n",
        "    print(user_fav_item)"
      ],
      "execution_count": null,
      "outputs": [
        {
          "output_type": "stream",
          "text": [
            "The Cove - Jack Johnson\n",
            "Entre Dos Aguas - Paco De Lucia\n",
            "Stronger - Kanye West\n",
            "Constellations - Jack Johnson\n",
            "Learn To Fly - Foo Fighters\n",
            "Apuesta Por El Rock 'N' Roll - Héroes del Silencio\n",
            "Paper Gangsta - Lady GaGa\n",
            "Stacked Actors - Foo Fighters\n",
            "Sehr kosmisch - Harmonia\n",
            "Heaven's gonna burn your eyes - Thievery Corporation feat. Emiliana Torrini\n",
            "Let It Be Sung - Jack Johnson / Matt Costa / Zach Gill / Dan Lebowitz / Steve Adams\n",
            "I'll Be Missing You (Featuring Faith Evans & 112)(Album Version) - Puff Daddy\n",
            "Love Shack - The B-52's\n",
            "Clarity - John Mayer\n",
            "I?'m A Steady Rollin? Man - Robert Johnson\n",
            "The Old Saloon - The Lonely Island\n",
            "Behind The Sea [Live In Chicago] - Panic At The Disco\n",
            "Champion - Kanye West\n",
            "Breakout - Foo Fighters\n",
            "Ragged Wood - Fleet Foxes\n",
            "Mykonos - Fleet Foxes\n",
            "Country Road - Jack Johnson / Paula Fuga\n",
            "Oh No - Andrew Bird\n",
            "Love Song For No One - John Mayer\n",
            "Jewels And Gold - Angus & Julia Stone\n",
            "Warning - Incubus\n",
            "83 - John Mayer\n",
            "Neon - John Mayer\n",
            "The Middle - Jimmy Eat World\n",
            "High and dry - Jorge Drexler\n",
            "All That We Perceive - Thievery Corporation\n",
            "The Christmas Song  (LP Version) - King Curtis\n",
            "Our Swords (Soundtrack Version) - Band Of Horses\n",
            "Are You In? - Incubus\n",
            "Drive - Incubus\n",
            "Generator - Foo Fighters\n",
            "Come Back To Bed - John Mayer\n",
            "He Doesn't Know Why - Fleet Foxes\n",
            "Trani - Kings Of Leon\n",
            "Bigger Isn't Better - The String Cheese Incident\n",
            "Sun Giant - Fleet Foxes\n",
            "City Love - John Mayer\n",
            "Right Back - Sublime\n",
            "Moonshine - Jack Johnson\n",
            "Holes To Heaven - Jack Johnson\n"
          ],
          "name": "stdout"
        }
      ]
    },
    {
      "cell_type": "code",
      "metadata": {
        "id": "W1BkBLJ9Z-n8"
      },
      "source": [
        "user_fav_items = IR.get_user_items(df_song['user_id'][100])"
      ],
      "execution_count": null,
      "outputs": []
    },
    {
      "cell_type": "markdown",
      "metadata": {
        "id": "ekWgSzKWbqmO"
      },
      "source": [
        "## **display user songs history**"
      ]
    },
    {
      "cell_type": "code",
      "metadata": {
        "colab": {
          "base_uri": "https://localhost:8080/"
        },
        "id": "L0m2hkA2aOV0",
        "outputId": "fc2b31d0-eaf0-4bfb-b0ba-92324a0875ab"
      },
      "source": [
        "for user_fav_item in user_fav_items:\n",
        "    print(user_fav_item)"
      ],
      "execution_count": null,
      "outputs": [
        {
          "output_type": "stream",
          "text": [
            "Undo - Björk\n",
            "Dog Days Are Over (Radio Edit) - Florence + The Machine\n",
            "High Life - Daft Punk\n",
            "You're The One - Dwight Yoakam\n",
            "Where Did You Sleep Last Night - Nirvana\n",
            "Come As You Are - Nirvana\n",
            "Hey_ Soul Sister - Train\n",
            "Horn Concerto No. 4 in E flat K495: II. Romance (Andante cantabile) - Barry Tuckwell/Academy of St Martin-in-the-Fields/Sir Neville Marriner\n",
            "Rhyme & Reason - DAVE MATTHEWS BAND\n",
            "Sehr kosmisch - Harmonia\n",
            "Someone Else's Arms - Mae\n",
            "Cry For Help (Album Version) - Shinedown\n",
            "Lady In Black - Ensiferum\n",
            "For You (Amended/Radio Edit LP) - Staind\n",
            "Fireflies - Charttraxx Karaoke\n",
            "Secrets - OneRepublic\n",
            "Esta Es Para Hacerte Féliz - Jorge Gonzalez\n",
            "Revelry - Kings Of Leon\n",
            "Marry Me - Train\n",
            "OMG - Usher featuring will.i.am\n",
            "Drop The World - Lil Wayne / Eminem\n",
            "Ain't Misbehavin - Sam Cooke\n",
            "Blow Me Away - Breaking Benjamin\n",
            "Use Somebody - Kings Of Leon\n",
            "Corn Bread - DAVE MATTHEWS BAND\n"
          ],
          "name": "stdout"
        }
      ]
    },
    {
      "cell_type": "markdown",
      "metadata": {
        "id": "UXDg0uICzwZE"
      },
      "source": [
        "## **Give song recommendation for that user**"
      ]
    },
    {
      "cell_type": "code",
      "metadata": {
        "colab": {
          "base_uri": "https://localhost:8080/",
          "height": 407
        },
        "id": "bJwdyKn6aRb0",
        "outputId": "3efc6033-2256-461e-d473-7b5c0405a302"
      },
      "source": [
        "\n",
        "IR.recommend(df_song['user_id'][100])"
      ],
      "execution_count": null,
      "outputs": [
        {
          "output_type": "stream",
          "text": [
            "No. of unique songs for the user: 25\n",
            "no. of unique songs in the training set: 9953\n",
            "Non zero values in cooccurence_matrix :191189\n"
          ],
          "name": "stdout"
        },
        {
          "output_type": "execute_result",
          "data": {
            "text/html": [
              "<div>\n",
              "<style scoped>\n",
              "    .dataframe tbody tr th:only-of-type {\n",
              "        vertical-align: middle;\n",
              "    }\n",
              "\n",
              "    .dataframe tbody tr th {\n",
              "        vertical-align: top;\n",
              "    }\n",
              "\n",
              "    .dataframe thead th {\n",
              "        text-align: right;\n",
              "    }\n",
              "</style>\n",
              "<table border=\"1\" class=\"dataframe\">\n",
              "  <thead>\n",
              "    <tr style=\"text-align: right;\">\n",
              "      <th></th>\n",
              "      <th>user_id</th>\n",
              "      <th>song</th>\n",
              "      <th>score</th>\n",
              "      <th>rank</th>\n",
              "    </tr>\n",
              "  </thead>\n",
              "  <tbody>\n",
              "    <tr>\n",
              "      <th>0</th>\n",
              "      <td>e006b1a48f466bf59feefed32bec6494495a4436</td>\n",
              "      <td>Pursuit Of Happiness (nightmare) - Kid Cudi / ...</td>\n",
              "      <td>0.085445</td>\n",
              "      <td>1</td>\n",
              "    </tr>\n",
              "    <tr>\n",
              "      <th>1</th>\n",
              "      <td>e006b1a48f466bf59feefed32bec6494495a4436</td>\n",
              "      <td>Lucky (Album Version) - Jason Mraz &amp; Colbie Ca...</td>\n",
              "      <td>0.082186</td>\n",
              "      <td>2</td>\n",
              "    </tr>\n",
              "    <tr>\n",
              "      <th>2</th>\n",
              "      <td>e006b1a48f466bf59feefed32bec6494495a4436</td>\n",
              "      <td>Somebody To Love - Justin Bieber</td>\n",
              "      <td>0.081300</td>\n",
              "      <td>3</td>\n",
              "    </tr>\n",
              "    <tr>\n",
              "      <th>3</th>\n",
              "      <td>e006b1a48f466bf59feefed32bec6494495a4436</td>\n",
              "      <td>The Only Exception (Album Version) - Paramore</td>\n",
              "      <td>0.079397</td>\n",
              "      <td>4</td>\n",
              "    </tr>\n",
              "    <tr>\n",
              "      <th>4</th>\n",
              "      <td>e006b1a48f466bf59feefed32bec6494495a4436</td>\n",
              "      <td>The Scientist - Coldplay</td>\n",
              "      <td>0.076167</td>\n",
              "      <td>5</td>\n",
              "    </tr>\n",
              "    <tr>\n",
              "      <th>5</th>\n",
              "      <td>e006b1a48f466bf59feefed32bec6494495a4436</td>\n",
              "      <td>Bleed It Out [Live At Milton Keynes] - Linkin ...</td>\n",
              "      <td>0.075127</td>\n",
              "      <td>6</td>\n",
              "    </tr>\n",
              "    <tr>\n",
              "      <th>6</th>\n",
              "      <td>e006b1a48f466bf59feefed32bec6494495a4436</td>\n",
              "      <td>Billionaire [feat. Bruno Mars]  (Explicit Albu...</td>\n",
              "      <td>0.071405</td>\n",
              "      <td>7</td>\n",
              "    </tr>\n",
              "    <tr>\n",
              "      <th>7</th>\n",
              "      <td>e006b1a48f466bf59feefed32bec6494495a4436</td>\n",
              "      <td>Love Story - Taylor Swift</td>\n",
              "      <td>0.069411</td>\n",
              "      <td>8</td>\n",
              "    </tr>\n",
              "    <tr>\n",
              "      <th>8</th>\n",
              "      <td>e006b1a48f466bf59feefed32bec6494495a4436</td>\n",
              "      <td>Bulletproof - La Roux</td>\n",
              "      <td>0.068273</td>\n",
              "      <td>9</td>\n",
              "    </tr>\n",
              "    <tr>\n",
              "      <th>9</th>\n",
              "      <td>e006b1a48f466bf59feefed32bec6494495a4436</td>\n",
              "      <td>Tive Sim - Cartola</td>\n",
              "      <td>0.067126</td>\n",
              "      <td>10</td>\n",
              "    </tr>\n",
              "  </tbody>\n",
              "</table>\n",
              "</div>"
            ],
            "text/plain": [
              "                                    user_id  ... rank\n",
              "0  e006b1a48f466bf59feefed32bec6494495a4436  ...    1\n",
              "1  e006b1a48f466bf59feefed32bec6494495a4436  ...    2\n",
              "2  e006b1a48f466bf59feefed32bec6494495a4436  ...    3\n",
              "3  e006b1a48f466bf59feefed32bec6494495a4436  ...    4\n",
              "4  e006b1a48f466bf59feefed32bec6494495a4436  ...    5\n",
              "5  e006b1a48f466bf59feefed32bec6494495a4436  ...    6\n",
              "6  e006b1a48f466bf59feefed32bec6494495a4436  ...    7\n",
              "7  e006b1a48f466bf59feefed32bec6494495a4436  ...    8\n",
              "8  e006b1a48f466bf59feefed32bec6494495a4436  ...    9\n",
              "9  e006b1a48f466bf59feefed32bec6494495a4436  ...   10\n",
              "\n",
              "[10 rows x 4 columns]"
            ]
          },
          "metadata": {},
          "execution_count": 69
        }
      ]
    },
    {
      "cell_type": "markdown",
      "metadata": {
        "id": "vyriDEgPwWk8"
      },
      "source": [
        "## **Give related songs based on the words**"
      ]
    },
    {
      "cell_type": "code",
      "metadata": {
        "colab": {
          "base_uri": "https://localhost:8080/",
          "height": 390
        },
        "id": "uRY12XSdrw8l",
        "outputId": "70166aac-30a0-48df-b2fa-d51618ecb096"
      },
      "source": [
        "\n",
        "IR.get_similar_items(['Somebody To Love - Justin Bieber'])"
      ],
      "execution_count": null,
      "outputs": [
        {
          "output_type": "stream",
          "text": [
            "no. of unique songs in the training set: 9953\n",
            "Non zero values in cooccurence_matrix :9560\n"
          ],
          "name": "stdout"
        },
        {
          "output_type": "execute_result",
          "data": {
            "text/html": [
              "<div>\n",
              "<style scoped>\n",
              "    .dataframe tbody tr th:only-of-type {\n",
              "        vertical-align: middle;\n",
              "    }\n",
              "\n",
              "    .dataframe tbody tr th {\n",
              "        vertical-align: top;\n",
              "    }\n",
              "\n",
              "    .dataframe thead th {\n",
              "        text-align: right;\n",
              "    }\n",
              "</style>\n",
              "<table border=\"1\" class=\"dataframe\">\n",
              "  <thead>\n",
              "    <tr style=\"text-align: right;\">\n",
              "      <th></th>\n",
              "      <th>user_id</th>\n",
              "      <th>song</th>\n",
              "      <th>score</th>\n",
              "      <th>rank</th>\n",
              "    </tr>\n",
              "  </thead>\n",
              "  <tbody>\n",
              "    <tr>\n",
              "      <th>0</th>\n",
              "      <td></td>\n",
              "      <td>U Smile - Justin Bieber</td>\n",
              "      <td>0.272999</td>\n",
              "      <td>1</td>\n",
              "    </tr>\n",
              "    <tr>\n",
              "      <th>1</th>\n",
              "      <td></td>\n",
              "      <td>Eenie Meenie - Sean Kingston and Justin Bieber</td>\n",
              "      <td>0.249307</td>\n",
              "      <td>2</td>\n",
              "    </tr>\n",
              "    <tr>\n",
              "      <th>2</th>\n",
              "      <td></td>\n",
              "      <td>Love Me - Justin Bieber</td>\n",
              "      <td>0.223391</td>\n",
              "      <td>3</td>\n",
              "    </tr>\n",
              "    <tr>\n",
              "      <th>3</th>\n",
              "      <td></td>\n",
              "      <td>OMG - Usher featuring will.i.am</td>\n",
              "      <td>0.203870</td>\n",
              "      <td>4</td>\n",
              "    </tr>\n",
              "    <tr>\n",
              "      <th>4</th>\n",
              "      <td></td>\n",
              "      <td>Marry Me - Train</td>\n",
              "      <td>0.200794</td>\n",
              "      <td>5</td>\n",
              "    </tr>\n",
              "    <tr>\n",
              "      <th>5</th>\n",
              "      <td></td>\n",
              "      <td>One Time - Justin Bieber</td>\n",
              "      <td>0.200645</td>\n",
              "      <td>6</td>\n",
              "    </tr>\n",
              "    <tr>\n",
              "      <th>6</th>\n",
              "      <td></td>\n",
              "      <td>Lucky (Album Version) - Jason Mraz &amp; Colbie Ca...</td>\n",
              "      <td>0.183409</td>\n",
              "      <td>7</td>\n",
              "    </tr>\n",
              "    <tr>\n",
              "      <th>7</th>\n",
              "      <td></td>\n",
              "      <td>Pursuit Of Happiness (nightmare) - Kid Cudi / ...</td>\n",
              "      <td>0.179563</td>\n",
              "      <td>8</td>\n",
              "    </tr>\n",
              "    <tr>\n",
              "      <th>8</th>\n",
              "      <td></td>\n",
              "      <td>One Less Lonely Girl - Justin Bieber</td>\n",
              "      <td>0.179026</td>\n",
              "      <td>9</td>\n",
              "    </tr>\n",
              "    <tr>\n",
              "      <th>9</th>\n",
              "      <td></td>\n",
              "      <td>Hey_ Soul Sister - Train</td>\n",
              "      <td>0.174150</td>\n",
              "      <td>10</td>\n",
              "    </tr>\n",
              "  </tbody>\n",
              "</table>\n",
              "</div>"
            ],
            "text/plain": [
              "  user_id                                               song     score rank\n",
              "0                                    U Smile - Justin Bieber  0.272999    1\n",
              "1             Eenie Meenie - Sean Kingston and Justin Bieber  0.249307    2\n",
              "2                                    Love Me - Justin Bieber  0.223391    3\n",
              "3                            OMG - Usher featuring will.i.am  0.203870    4\n",
              "4                                           Marry Me - Train  0.200794    5\n",
              "5                                   One Time - Justin Bieber  0.200645    6\n",
              "6          Lucky (Album Version) - Jason Mraz & Colbie Ca...  0.183409    7\n",
              "7          Pursuit Of Happiness (nightmare) - Kid Cudi / ...  0.179563    8\n",
              "8                       One Less Lonely Girl - Justin Bieber  0.179026    9\n",
              "9                                   Hey_ Soul Sister - Train  0.174150   10"
            ]
          },
          "metadata": {},
          "execution_count": 73
        }
      ]
    },
    {
      "cell_type": "code",
      "metadata": {
        "colab": {
          "base_uri": "https://localhost:8080/",
          "height": 390
        },
        "id": "-7KHEmyUcPFa",
        "outputId": "15670b0c-a0c0-491d-88f2-2d0a18ac6bf6"
      },
      "source": [
        "\n",
        "IR.get_similar_items(['The Scientist - Coldplay'])"
      ],
      "execution_count": null,
      "outputs": [
        {
          "output_type": "stream",
          "text": [
            "no. of unique songs in the training set: 9953\n",
            "Non zero values in cooccurence_matrix :9898\n"
          ],
          "name": "stdout"
        },
        {
          "output_type": "execute_result",
          "data": {
            "text/html": [
              "<div>\n",
              "<style scoped>\n",
              "    .dataframe tbody tr th:only-of-type {\n",
              "        vertical-align: middle;\n",
              "    }\n",
              "\n",
              "    .dataframe tbody tr th {\n",
              "        vertical-align: top;\n",
              "    }\n",
              "\n",
              "    .dataframe thead th {\n",
              "        text-align: right;\n",
              "    }\n",
              "</style>\n",
              "<table border=\"1\" class=\"dataframe\">\n",
              "  <thead>\n",
              "    <tr style=\"text-align: right;\">\n",
              "      <th></th>\n",
              "      <th>user_id</th>\n",
              "      <th>song</th>\n",
              "      <th>score</th>\n",
              "      <th>rank</th>\n",
              "    </tr>\n",
              "  </thead>\n",
              "  <tbody>\n",
              "    <tr>\n",
              "      <th>0</th>\n",
              "      <td></td>\n",
              "      <td>Clocks - Coldplay</td>\n",
              "      <td>0.311644</td>\n",
              "      <td>1</td>\n",
              "    </tr>\n",
              "    <tr>\n",
              "      <th>1</th>\n",
              "      <td></td>\n",
              "      <td>Yellow - Coldplay</td>\n",
              "      <td>0.252474</td>\n",
              "      <td>2</td>\n",
              "    </tr>\n",
              "    <tr>\n",
              "      <th>2</th>\n",
              "      <td></td>\n",
              "      <td>Fix You - Coldplay</td>\n",
              "      <td>0.250946</td>\n",
              "      <td>3</td>\n",
              "    </tr>\n",
              "    <tr>\n",
              "      <th>3</th>\n",
              "      <td></td>\n",
              "      <td>Lucky (Album Version) - Jason Mraz &amp; Colbie Ca...</td>\n",
              "      <td>0.193009</td>\n",
              "      <td>4</td>\n",
              "    </tr>\n",
              "    <tr>\n",
              "      <th>4</th>\n",
              "      <td></td>\n",
              "      <td>Use Somebody - Kings Of Leon</td>\n",
              "      <td>0.190731</td>\n",
              "      <td>5</td>\n",
              "    </tr>\n",
              "    <tr>\n",
              "      <th>5</th>\n",
              "      <td></td>\n",
              "      <td>Marry Me - Train</td>\n",
              "      <td>0.182174</td>\n",
              "      <td>6</td>\n",
              "    </tr>\n",
              "    <tr>\n",
              "      <th>6</th>\n",
              "      <td></td>\n",
              "      <td>Pursuit Of Happiness (nightmare) - Kid Cudi / ...</td>\n",
              "      <td>0.175526</td>\n",
              "      <td>7</td>\n",
              "    </tr>\n",
              "    <tr>\n",
              "      <th>7</th>\n",
              "      <td></td>\n",
              "      <td>Hey_ Soul Sister - Train</td>\n",
              "      <td>0.169279</td>\n",
              "      <td>8</td>\n",
              "    </tr>\n",
              "    <tr>\n",
              "      <th>8</th>\n",
              "      <td></td>\n",
              "      <td>Secrets - OneRepublic</td>\n",
              "      <td>0.169162</td>\n",
              "      <td>9</td>\n",
              "    </tr>\n",
              "    <tr>\n",
              "      <th>9</th>\n",
              "      <td></td>\n",
              "      <td>Shiver - Coldplay</td>\n",
              "      <td>0.168509</td>\n",
              "      <td>10</td>\n",
              "    </tr>\n",
              "  </tbody>\n",
              "</table>\n",
              "</div>"
            ],
            "text/plain": [
              "  user_id                                               song     score rank\n",
              "0                                          Clocks - Coldplay  0.311644    1\n",
              "1                                          Yellow - Coldplay  0.252474    2\n",
              "2                                         Fix You - Coldplay  0.250946    3\n",
              "3          Lucky (Album Version) - Jason Mraz & Colbie Ca...  0.193009    4\n",
              "4                               Use Somebody - Kings Of Leon  0.190731    5\n",
              "5                                           Marry Me - Train  0.182174    6\n",
              "6          Pursuit Of Happiness (nightmare) - Kid Cudi / ...  0.175526    7\n",
              "7                                   Hey_ Soul Sister - Train  0.169279    8\n",
              "8                                      Secrets - OneRepublic  0.169162    9\n",
              "9                                          Shiver - Coldplay  0.168509   10"
            ]
          },
          "metadata": {},
          "execution_count": 71
        }
      ]
    },
    {
      "cell_type": "markdown",
      "metadata": {
        "id": "afTjzr9sG4he"
      },
      "source": [
        "## Succesfully got music recommendation and our aim is also fulfilled ."
      ]
    }
  ]
}